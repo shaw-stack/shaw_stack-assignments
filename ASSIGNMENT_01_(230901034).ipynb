{
  "nbformat": 4,
  "nbformat_minor": 0,
  "metadata": {
    "colab": {
      "provenance": [],
      "authorship_tag": "ABX9TyPs7M9zIxCF+pNHzocxXttu",
      "include_colab_link": true
    },
    "kernelspec": {
      "name": "python3",
      "display_name": "Python 3"
    },
    "language_info": {
      "name": "python"
    }
  },
  "cells": [
    {
      "cell_type": "markdown",
      "metadata": {
        "id": "view-in-github",
        "colab_type": "text"
      },
      "source": [
        "<a href=\"https://colab.research.google.com/github/shaw-stack/shaw-stack/blob/main/ASSIGNMENT_01_(230901034).ipynb\" target=\"_parent\"><img src=\"https://colab.research.google.com/assets/colab-badge.svg\" alt=\"Open In Colab\"/></a>"
      ]
    },
    {
      "cell_type": "code",
      "execution_count": 1,
      "metadata": {
        "colab": {
          "base_uri": "https://localhost:8080/"
        },
        "id": "FehwRxOR8G36",
        "outputId": "15fa2c51-9484-4532-84e4-54404f635247"
      },
      "outputs": [
        {
          "output_type": "stream",
          "name": "stdout",
          "text": [
            "Overall Class Performance:\n",
            "  Average Score: 66.50\n",
            "  Highest Score: 95\n",
            "  Lowest Score: 39\n",
            "\n",
            "Pass/Fail Classification:\n",
            "['Pass', 'Pass', 'Fail', 'Pass', 'Pass', 'Pass', 'Fail', 'Pass', 'Pass', 'Fail', 'Pass', 'Pass', 'Pass', 'Fail', 'Pass', 'Pass', 'Pass', 'Pass', 'Pass', 'Pass']\n",
            "\n",
            "Grades:\n",
            "['D', 'B', 'F', 'A', 'D', 'A', 'F', 'C', 'C', 'F', 'A', 'C', 'B', 'F', 'A', 'D', 'C', 'B', 'F', 'C']\n"
          ]
        }
      ],
      "source": [
        "\n",
        "import numpy as np\n",
        "\n",
        "def analyze_exam_scores(scores):\n",
        "    \"\"\"\n",
        "    Analyzes exam scores to provide overall performance, pass/fail classification,\n",
        "    and grading on a curve.\n",
        "\n",
        "    Args:\n",
        "        scores (list or numpy.ndarray): A list or NumPy array of student exam scores.\n",
        "\n",
        "    Returns:\n",
        "        dict: A dictionary containing the analysis results.\n",
        "    \"\"\"\n",
        "\n",
        "    scores = np.array(scores)  # Ensure scores is a NumPy array for easier calculations\n",
        "\n",
        "    # Overall Class Performance\n",
        "    average_score = np.mean(scores)\n",
        "    highest_score = np.max(scores)\n",
        "    lowest_score = np.min(scores)\n",
        "\n",
        "    # Pass/Fail Classification (assuming pass mark is 50)\n",
        "    pass_mark = 50\n",
        "    pass_status = [\"Pass\" if score >= pass_mark else \"Fail\" for score in scores]\n",
        "\n",
        "    # Grading on a Curve (example: relative grading)\n",
        "    grade_thresholds = np.linspace(lowest_score, highest_score, 6)  # Creates 6 evenly spaced values between lowest and highest score\n",
        "    grades = []\n",
        "    for score in scores:\n",
        "        if score >= grade_thresholds[4]:\n",
        "            grades.append(\"A\")\n",
        "        elif score >= grade_thresholds[3]:\n",
        "            grades.append(\"B\")\n",
        "        elif score >= grade_thresholds[2]:\n",
        "            grades.append(\"C\")\n",
        "        elif score >= grade_thresholds[1]:\n",
        "            grades.append(\"D\")\n",
        "        else:\n",
        "            grades.append(\"F\")\n",
        "\n",
        "    analysis = {\n",
        "        \"average_score\": average_score,\n",
        "        \"highest_score\": highest_score,\n",
        "        \"lowest_score\": lowest_score,\n",
        "        \"pass_status\": pass_status,\n",
        "        \"grades\": grades\n",
        "    }\n",
        "\n",
        "    return analysis\n",
        "\n",
        "# Example Usage:\n",
        "student_scores = [60, 75, 48, 92, 55, 88, 39, 68, 70, 42, 85, 63, 79, 46, 95, 58, 72, 81, 50, 64]\n",
        "results = analyze_exam_scores(student_scores)\n",
        "\n",
        "print(\"Overall Class Performance:\")\n",
        "print(f\"  Average Score: {results['average_score']:.2f}\")\n",
        "print(f\"  Highest Score: {results['highest_score']}\")\n",
        "print(f\"  Lowest Score: {results['lowest_score']}\")\n",
        "\n",
        "print(\"\\nPass/Fail Classification:\")\n",
        "print(results['pass_status'])\n",
        "\n",
        "print(\"\\nGrades:\")\n",
        "print(results['grades'])"
      ]
    },
    {
      "cell_type": "code",
      "source": [
        "\n",
        "import numpy as np\n",
        "\n",
        "def solve_linear_equations(A, b):\n",
        "    \"\"\"\n",
        "    Solves a system of linear equations Ax = b.\n",
        "\n",
        "    Args:\n",
        "        A (numpy.ndarray): A 2x2 matrix representing the coefficients.\n",
        "        b (numpy.ndarray): A 2x1 vector representing the constants.\n",
        "\n",
        "    Returns:\n",
        "        numpy.ndarray: The solution vector x, or None if no solution exists.\n",
        "    \"\"\"\n",
        "\n",
        "    try:\n",
        "        x = np.linalg.solve(A, b)\n",
        "        return x\n",
        "    except np.linalg.LinAlgError:\n",
        "        return None  # Handle cases where the matrix is singular (no unique solution)\n",
        "\n",
        "# Example Usage:\n",
        "A = np.array([[2, 1], [1, -1]])\n",
        "b = np.array([8, 1])\n",
        "\n",
        "x = solve_linear_equations(A, b)\n",
        "\n",
        "if x is not None:\n",
        "    print(\"Solution:\", x)\n",
        "else:\n",
        "    print(\"The system of equations has no unique solution.\")"
      ],
      "metadata": {
        "colab": {
          "base_uri": "https://localhost:8080/"
        },
        "id": "UFGn_aZw8JV4",
        "outputId": "7790664c-7267-4675-ccdc-2010800baeb3"
      },
      "execution_count": 2,
      "outputs": [
        {
          "output_type": "stream",
          "name": "stdout",
          "text": [
            "Solution: [3. 2.]\n"
          ]
        }
      ]
    },
    {
      "cell_type": "code",
      "source": [
        "\n",
        "import numpy as np\n",
        "\n",
        "def analyze_step_count(steps, high_activity_threshold):\n",
        "    \"\"\"\n",
        "    Analyzes daily step count data.\n",
        "\n",
        "    Args:\n",
        "        steps (numpy.ndarray): A NumPy array of daily step counts.\n",
        "        high_activity_threshold (int): The threshold for identifying high activity days.\n",
        "\n",
        "    Returns:\n",
        "        dict: A dictionary containing the analysis results.\n",
        "    \"\"\"\n",
        "\n",
        "    total_steps = np.sum(steps)\n",
        "    average_steps = np.mean(steps)\n",
        "    max_steps = np.max(steps)\n",
        "    min_steps = np.min(steps)\n",
        "\n",
        "    high_activity_days = np.where(steps > high_activity_threshold)[0] + 1  # Days are 1-indexed\n",
        "\n",
        "    # Analyze trends (example: increase/decrease compared to the previous day)\n",
        "    trends = [\"Increase\" if steps[i] > steps[i-1] else \"Decrease\" if steps[i] < steps[i-1] else \"Same\" for i in range(1, len(steps))]\n",
        "    trends.insert(0, \"N/A\")  # No trend for the first day\n",
        "\n",
        "    analysis = {\n",
        "        \"total_steps\": total_steps,\n",
        "        \"average_steps\": average_steps,\n",
        "        \"max_steps\": max_steps,\n",
        "        \"min_steps\": min_steps,\n",
        "        \"high_activity_days\": high_activity_days.tolist(),\n",
        "        \"trends\": trends\n",
        "    }\n",
        "\n",
        "    return analysis\n",
        "\n",
        "# Example Usage:\n",
        "daily_steps = np.array([5200, 6800, 9500, 12000, 7100, 8400, 15000, 4500, 11000, 8900, 7600, 9800, 10200, 6300, 13000, 5800, 9200, 8800, 10500, 11500, 6000, 7300, 9900, 12500, 7000, 8000, 14000, 4000, 10500, 8500])\n",
        "high_activity_threshold = 10000\n",
        "results = analyze_step_count(daily_steps, high_activity_threshold)\n",
        "\n",
        "print(\"Step Count Analysis:\")\n",
        "print(f\"  Total Steps: {results['total_steps']}\")\n",
        "print(f\"  Average Steps: {results['average_steps']:.2f}\")\n",
        "print(f\"  Max Steps: {results['max_steps']}\")\n",
        "print(f\"  Min Steps: {results['min_steps']}\")\n",
        "print(f\"  High Activity Days: {results['high_activity_days']}\")\n",
        "print(f\"  Trends: {results['trends']}\")"
      ],
      "metadata": {
        "colab": {
          "base_uri": "https://localhost:8080/"
        },
        "id": "enjka98F8JYM",
        "outputId": "9555cb4e-1147-4e6a-df96-7a37e23728bc"
      },
      "execution_count": 3,
      "outputs": [
        {
          "output_type": "stream",
          "name": "stdout",
          "text": [
            "Step Count Analysis:\n",
            "  Total Steps: 268800\n",
            "  Average Steps: 8960.00\n",
            "  Max Steps: 15000\n",
            "  Min Steps: 4000\n",
            "  High Activity Days: [4, 7, 9, 13, 15, 19, 20, 24, 27, 29]\n",
            "  Trends: ['N/A', 'Increase', 'Increase', 'Increase', 'Decrease', 'Increase', 'Increase', 'Decrease', 'Increase', 'Decrease', 'Decrease', 'Increase', 'Increase', 'Decrease', 'Increase', 'Decrease', 'Increase', 'Decrease', 'Increase', 'Increase', 'Decrease', 'Increase', 'Increase', 'Increase', 'Decrease', 'Increase', 'Increase', 'Decrease', 'Increase', 'Decrease']\n"
          ]
        }
      ]
    },
    {
      "cell_type": "code",
      "source": [
        "\n",
        "import numpy as np\n",
        "\n",
        "def analyze_student_grades(grades):\n",
        "    \"\"\"\n",
        "    Analyzes student grades across three subjects.\n",
        "\n",
        "    Args:\n",
        "        grades (numpy.ndarray): A NumPy array of shape (30, 3) representing student grades.\n",
        "                               Each row is a student, and each column is a subject (Math, Science, English).\n",
        "\n",
        "    Returns:\n",
        "        dict: A dictionary containing the analysis results.\n",
        "    \"\"\"\n",
        "\n",
        "    # Overall Statistics\n",
        "    overall_average = np.mean(grades)\n",
        "    overall_highest = np.max(grades)\n",
        "    overall_lowest = np.min(grades)\n",
        "\n",
        "    # Subject-wise Statistics\n",
        "    subject_averages = np.mean(grades, axis=0)  # Averages for each subject\n",
        "    subject_highests = np.max(grades, axis=0)\n",
        "    subject_lowests = np.min(grades, axis=0)\n",
        "\n",
        "    # Top Performing Students (based on average)\n",
        "    student_averages = np.mean(grades, axis=1)  # Averages for each student\n",
        "    top_student_indices = np.argsort(student_averages)[-5:][::-1]  # Indices of top 5 students\n",
        "    top_student_averages = student_averages[top_student_indices]\n",
        "\n",
        "    analysis = {\n",
        "        \"overall_average\": overall_average,\n",
        "        \"overall_highest\": overall_highest,\n",
        "        \"overall_lowest\": overall_lowest,\n",
        "        \"subject_averages\": subject_averages.tolist(),\n",
        "        \"subject_highests\": subject_highests.tolist(),\n",
        "        \"subject_lowests\": subject_lowests.tolist(),\n",
        "        \"top_student_indices\": top_student_indices.tolist(),\n",
        "        \"top_student_averages\": top_student_averages.tolist()\n",
        "    }\n",
        "\n",
        "    return analysis\n",
        "\n",
        "# Example Usage:\n",
        "student_grades = np.random.randint(0, 101, size=(30, 3))  # Random grades between 0 and 100\n",
        "results = analyze_student_grades(student_grades)\n",
        "\n",
        "print(\"Grade Analysis:\")\n",
        "print(\"Overall Statistics:\")\n",
        "print(f\"  Overall Average: {results['overall_average']:.2f}\")\n",
        "print(f\"  Overall Highest: {results['overall_highest']}\")\n",
        "print(f\"  Overall Lowest: {results['overall_lowest']}\")\n",
        "\n",
        "print(\"\\nSubject-wise Statistics:\")\n",
        "print(f\"  Subject Averages: {results['subject_averages']}\")\n",
        "print(f\"  Subject Highests: {results['subject_highests']}\")\n",
        "print(f\"  Subject Lowests: {results['subject_lowests']}\")\n",
        "\n",
        "print(\"\\nTop Performing Students:\")\n",
        "for i, student_index in enumerate(results['top_student_indices']):\n",
        "    print(f\"  Student {student_index + 1}: Average = {results['top_student_averages'][i]:.2f}\")"
      ],
      "metadata": {
        "colab": {
          "base_uri": "https://localhost:8080/"
        },
        "id": "2zsrXsA18Jan",
        "outputId": "9ba0192e-3c04-4803-e4e2-28510e92721a"
      },
      "execution_count": 4,
      "outputs": [
        {
          "output_type": "stream",
          "name": "stdout",
          "text": [
            "Grade Analysis:\n",
            "Overall Statistics:\n",
            "  Overall Average: 49.54\n",
            "  Overall Highest: 100\n",
            "  Overall Lowest: 0\n",
            "\n",
            "Subject-wise Statistics:\n",
            "  Subject Averages: [51.13333333333333, 48.1, 49.4]\n",
            "  Subject Highests: [99, 100, 95]\n",
            "  Subject Lowests: [0, 1, 0]\n",
            "\n",
            "Top Performing Students:\n",
            "  Student 30: Average = 83.67\n",
            "  Student 27: Average = 82.00\n",
            "  Student 25: Average = 81.00\n",
            "  Student 10: Average = 72.00\n",
            "  Student 9: Average = 70.33\n"
          ]
        }
      ]
    },
    {
      "cell_type": "code",
      "source": [
        "\n",
        "import numpy as np\n",
        "\n",
        "def compute_series_impedance(impedances):\n",
        "    \"\"\"Computes the total impedance of components in series.\"\"\"\n",
        "    return np.sum(impedances)\n",
        "\n",
        "def compute_parallel_impedance(impedances):\n",
        "    \"\"\"Computes the total impedance of components in parallel.\"\"\"\n",
        "    if np.any(impedances == 0):\n",
        "        return float('inf')  # Impedance is infinite if any impedance is zero\n",
        "    return 1 / np.sum(1 / impedances)\n",
        "\n",
        "# Example Usage:\n",
        "# Series Circuit\n",
        "series_impedances = np.array([10 + 2j, 5 - 1j, 8 + 3j])  # Example complex impedances\n",
        "total_series_impedance = compute_series_impedance(series_impedances)\n",
        "print(\"Total Series Impedance:\", total_series_impedance)\n",
        "\n",
        "# Parallel Circuit\n",
        "parallel_impedances = np.array([10, 5 + 2j, 8])\n",
        "total_parallel_impedance = compute_parallel_impedance(parallel_impedances)\n",
        "print(\"Total Parallel Impedance:\", total_parallel_impedance)"
      ],
      "metadata": {
        "colab": {
          "base_uri": "https://localhost:8080/"
        },
        "id": "Nm2wgfTX8Jc1",
        "outputId": "68cc733e-dfe0-4244-ba8f-e2e72aef5569"
      },
      "execution_count": 5,
      "outputs": [
        {
          "output_type": "stream",
          "name": "stdout",
          "text": [
            "Total Series Impedance: (23+4j)\n",
            "Total Parallel Impedance: (2.4427076433964765+0.4238972049278051j)\n"
          ]
        }
      ]
    },
    {
      "cell_type": "code",
      "source": [
        "\n",
        "import numpy as np\n",
        "\n",
        "def analyze_stock_prices(stock1_data, stock2_data):\n",
        "    \"\"\"\n",
        "    Analyzes stock price data using matrix operations.\n",
        "\n",
        "    Args:\n",
        "        stock1_data (numpy.ndarray): A 5x3 NumPy array for stock 1.\n",
        "        stock2_data (numpy.ndarray): A 5x3 NumPy array for stock 2.\n",
        "\n",
        "    Returns:\n",
        "        tuple: The element-wise sum and difference of the matrices.\n",
        "    \"\"\"\n",
        "\n",
        "    # Element-wise Sum\n",
        "    combined_prices = np.add(stock1_data, stock2_data)\n",
        "\n",
        "    # Element-wise Difference\n",
        "    daily_spread = np.subtract(stock1_data, stock2_data)\n",
        "\n",
        "    return combined_prices, daily_spread\n",
        "\n",
        "# Example Usage:\n",
        "stock1_data = np.array([[10, 12, 9], [11, 13, 10], [12, 14, 11], [13, 15, 12], [14, 16, 13]])\n",
        "stock2_data = np.array([[10.5, 11.5, 9.5], [11.5, 12.5, 10.5], [12.5, 13.5, 11.5], [13.5, 14.5, 12.5], [14.5, 15.5, 13.5]])\n",
        "\n",
        "combined_prices, daily_spread = analyze_stock_prices(stock1_data, stock2_data)\n",
        "\n",
        "print(\"Combined Prices (Sum):\")\n",
        "print(combined_prices)\n",
        "\n",
        "print(\"\\nDaily Spread (Difference):\")\n",
        "print(daily_spread)"
      ],
      "metadata": {
        "colab": {
          "base_uri": "https://localhost:8080/"
        },
        "id": "4Z9gfkRi8JsG",
        "outputId": "fdba0189-721d-4b69-9675-6bb67110a838"
      },
      "execution_count": 6,
      "outputs": [
        {
          "output_type": "stream",
          "name": "stdout",
          "text": [
            "Combined Prices (Sum):\n",
            "[[20.5 23.5 18.5]\n",
            " [22.5 25.5 20.5]\n",
            " [24.5 27.5 22.5]\n",
            " [26.5 29.5 24.5]\n",
            " [28.5 31.5 26.5]]\n",
            "\n",
            "Daily Spread (Difference):\n",
            "[[-0.5  0.5 -0.5]\n",
            " [-0.5  0.5 -0.5]\n",
            " [-0.5  0.5 -0.5]\n",
            " [-0.5  0.5 -0.5]\n",
            " [-0.5  0.5 -0.5]]\n"
          ]
        }
      ]
    },
    {
      "cell_type": "code",
      "source": [
        "\n",
        "import pandas as pd\n",
        "import numpy as np\n",
        "\n",
        "def analyze_eeg_data(data_file):\n",
        "    \"\"\"\n",
        "    Analyzes EEG data using Pandas.\n",
        "\n",
        "    Args:\n",
        "        data_file (str): The path to the CSV file containing EEG data.\n",
        "\n",
        "    Returns:\n",
        "        dict: A dictionary containing the analysis results.\n",
        "    \"\"\"\n",
        "\n",
        "    # Load the EEG data\n",
        "    eeg_data = pd.read_csv(data_file)\n",
        "\n",
        "    # Basic Statistical Analysis\n",
        "    analysis_results = eeg_data.describe()  # Get mean, std, min, max, etc.\n",
        "\n",
        "    # Identify Peak Values (example: for each electrode)\n",
        "    peak_values = eeg_data.max()\n",
        "\n",
        "    analysis = {\n",
        "        \"statistical_analysis\": analysis_results,\n",
        "        \"peak_values\": peak_values\n",
        "    }\n",
        "\n",
        "    return analysis\n",
        "\n",
        "# Example Usage:\n",
        "# Assuming 'eeg_data.csv' exists with columns like 'Participant', 'Electrode1', 'Electrode2', ...\n",
        "data_file = \"eeg_data.csv\"\n",
        "results = analyze_eeg_data(data_file)\n",
        "\n",
        "print(\"EEG Data Analysis:\")\n",
        "print(\"\\nStatistical Analysis:\")\n",
        "print(results['statistical_analysis'])\n",
        "\n",
        "print(\"\\nPeak Values:\")\n",
        "print(results['peak_values'])"
      ],
      "metadata": {
        "colab": {
          "base_uri": "https://localhost:8080/",
          "height": 564
        },
        "id": "4Uu1qLbO8Jue",
        "outputId": "9a4a0a5c-08c6-4f85-d3b7-fd49d13635ac"
      },
      "execution_count": 7,
      "outputs": [
        {
          "output_type": "error",
          "ename": "FileNotFoundError",
          "evalue": "[Errno 2] No such file or directory: 'eeg_data.csv'",
          "traceback": [
            "\u001b[0;31m---------------------------------------------------------------------------\u001b[0m",
            "\u001b[0;31mFileNotFoundError\u001b[0m                         Traceback (most recent call last)",
            "\u001b[0;32m<ipython-input-7-d1a9636f9e89>\u001b[0m in \u001b[0;36m<cell line: 0>\u001b[0;34m()\u001b[0m\n\u001b[1;32m     32\u001b[0m \u001b[0;31m# Assuming 'eeg_data.csv' exists with columns like 'Participant', 'Electrode1', 'Electrode2', ...\u001b[0m\u001b[0;34m\u001b[0m\u001b[0;34m\u001b[0m\u001b[0m\n\u001b[1;32m     33\u001b[0m \u001b[0mdata_file\u001b[0m \u001b[0;34m=\u001b[0m \u001b[0;34m\"eeg_data.csv\"\u001b[0m\u001b[0;34m\u001b[0m\u001b[0;34m\u001b[0m\u001b[0m\n\u001b[0;32m---> 34\u001b[0;31m \u001b[0mresults\u001b[0m \u001b[0;34m=\u001b[0m \u001b[0manalyze_eeg_data\u001b[0m\u001b[0;34m(\u001b[0m\u001b[0mdata_file\u001b[0m\u001b[0;34m)\u001b[0m\u001b[0;34m\u001b[0m\u001b[0;34m\u001b[0m\u001b[0m\n\u001b[0m\u001b[1;32m     35\u001b[0m \u001b[0;34m\u001b[0m\u001b[0m\n\u001b[1;32m     36\u001b[0m \u001b[0mprint\u001b[0m\u001b[0;34m(\u001b[0m\u001b[0;34m\"EEG Data Analysis:\"\u001b[0m\u001b[0;34m)\u001b[0m\u001b[0;34m\u001b[0m\u001b[0;34m\u001b[0m\u001b[0m\n",
            "\u001b[0;32m<ipython-input-7-d1a9636f9e89>\u001b[0m in \u001b[0;36manalyze_eeg_data\u001b[0;34m(data_file)\u001b[0m\n\u001b[1;32m     14\u001b[0m \u001b[0;34m\u001b[0m\u001b[0m\n\u001b[1;32m     15\u001b[0m     \u001b[0;31m# Load the EEG data\u001b[0m\u001b[0;34m\u001b[0m\u001b[0;34m\u001b[0m\u001b[0m\n\u001b[0;32m---> 16\u001b[0;31m     \u001b[0meeg_data\u001b[0m \u001b[0;34m=\u001b[0m \u001b[0mpd\u001b[0m\u001b[0;34m.\u001b[0m\u001b[0mread_csv\u001b[0m\u001b[0;34m(\u001b[0m\u001b[0mdata_file\u001b[0m\u001b[0;34m)\u001b[0m\u001b[0;34m\u001b[0m\u001b[0;34m\u001b[0m\u001b[0m\n\u001b[0m\u001b[1;32m     17\u001b[0m \u001b[0;34m\u001b[0m\u001b[0m\n\u001b[1;32m     18\u001b[0m     \u001b[0;31m# Basic Statistical Analysis\u001b[0m\u001b[0;34m\u001b[0m\u001b[0;34m\u001b[0m\u001b[0m\n",
            "\u001b[0;32m/usr/local/lib/python3.11/dist-packages/pandas/io/parsers/readers.py\u001b[0m in \u001b[0;36mread_csv\u001b[0;34m(filepath_or_buffer, sep, delimiter, header, names, index_col, usecols, dtype, engine, converters, true_values, false_values, skipinitialspace, skiprows, skipfooter, nrows, na_values, keep_default_na, na_filter, verbose, skip_blank_lines, parse_dates, infer_datetime_format, keep_date_col, date_parser, date_format, dayfirst, cache_dates, iterator, chunksize, compression, thousands, decimal, lineterminator, quotechar, quoting, doublequote, escapechar, comment, encoding, encoding_errors, dialect, on_bad_lines, delim_whitespace, low_memory, memory_map, float_precision, storage_options, dtype_backend)\u001b[0m\n\u001b[1;32m   1024\u001b[0m     \u001b[0mkwds\u001b[0m\u001b[0;34m.\u001b[0m\u001b[0mupdate\u001b[0m\u001b[0;34m(\u001b[0m\u001b[0mkwds_defaults\u001b[0m\u001b[0;34m)\u001b[0m\u001b[0;34m\u001b[0m\u001b[0;34m\u001b[0m\u001b[0m\n\u001b[1;32m   1025\u001b[0m \u001b[0;34m\u001b[0m\u001b[0m\n\u001b[0;32m-> 1026\u001b[0;31m     \u001b[0;32mreturn\u001b[0m \u001b[0m_read\u001b[0m\u001b[0;34m(\u001b[0m\u001b[0mfilepath_or_buffer\u001b[0m\u001b[0;34m,\u001b[0m \u001b[0mkwds\u001b[0m\u001b[0;34m)\u001b[0m\u001b[0;34m\u001b[0m\u001b[0;34m\u001b[0m\u001b[0m\n\u001b[0m\u001b[1;32m   1027\u001b[0m \u001b[0;34m\u001b[0m\u001b[0m\n\u001b[1;32m   1028\u001b[0m \u001b[0;34m\u001b[0m\u001b[0m\n",
            "\u001b[0;32m/usr/local/lib/python3.11/dist-packages/pandas/io/parsers/readers.py\u001b[0m in \u001b[0;36m_read\u001b[0;34m(filepath_or_buffer, kwds)\u001b[0m\n\u001b[1;32m    618\u001b[0m \u001b[0;34m\u001b[0m\u001b[0m\n\u001b[1;32m    619\u001b[0m     \u001b[0;31m# Create the parser.\u001b[0m\u001b[0;34m\u001b[0m\u001b[0;34m\u001b[0m\u001b[0m\n\u001b[0;32m--> 620\u001b[0;31m     \u001b[0mparser\u001b[0m \u001b[0;34m=\u001b[0m \u001b[0mTextFileReader\u001b[0m\u001b[0;34m(\u001b[0m\u001b[0mfilepath_or_buffer\u001b[0m\u001b[0;34m,\u001b[0m \u001b[0;34m**\u001b[0m\u001b[0mkwds\u001b[0m\u001b[0;34m)\u001b[0m\u001b[0;34m\u001b[0m\u001b[0;34m\u001b[0m\u001b[0m\n\u001b[0m\u001b[1;32m    621\u001b[0m \u001b[0;34m\u001b[0m\u001b[0m\n\u001b[1;32m    622\u001b[0m     \u001b[0;32mif\u001b[0m \u001b[0mchunksize\u001b[0m \u001b[0;32mor\u001b[0m \u001b[0miterator\u001b[0m\u001b[0;34m:\u001b[0m\u001b[0;34m\u001b[0m\u001b[0;34m\u001b[0m\u001b[0m\n",
            "\u001b[0;32m/usr/local/lib/python3.11/dist-packages/pandas/io/parsers/readers.py\u001b[0m in \u001b[0;36m__init__\u001b[0;34m(self, f, engine, **kwds)\u001b[0m\n\u001b[1;32m   1618\u001b[0m \u001b[0;34m\u001b[0m\u001b[0m\n\u001b[1;32m   1619\u001b[0m         \u001b[0mself\u001b[0m\u001b[0;34m.\u001b[0m\u001b[0mhandles\u001b[0m\u001b[0;34m:\u001b[0m \u001b[0mIOHandles\u001b[0m \u001b[0;34m|\u001b[0m \u001b[0;32mNone\u001b[0m \u001b[0;34m=\u001b[0m \u001b[0;32mNone\u001b[0m\u001b[0;34m\u001b[0m\u001b[0;34m\u001b[0m\u001b[0m\n\u001b[0;32m-> 1620\u001b[0;31m         \u001b[0mself\u001b[0m\u001b[0;34m.\u001b[0m\u001b[0m_engine\u001b[0m \u001b[0;34m=\u001b[0m \u001b[0mself\u001b[0m\u001b[0;34m.\u001b[0m\u001b[0m_make_engine\u001b[0m\u001b[0;34m(\u001b[0m\u001b[0mf\u001b[0m\u001b[0;34m,\u001b[0m \u001b[0mself\u001b[0m\u001b[0;34m.\u001b[0m\u001b[0mengine\u001b[0m\u001b[0;34m)\u001b[0m\u001b[0;34m\u001b[0m\u001b[0;34m\u001b[0m\u001b[0m\n\u001b[0m\u001b[1;32m   1621\u001b[0m \u001b[0;34m\u001b[0m\u001b[0m\n\u001b[1;32m   1622\u001b[0m     \u001b[0;32mdef\u001b[0m \u001b[0mclose\u001b[0m\u001b[0;34m(\u001b[0m\u001b[0mself\u001b[0m\u001b[0;34m)\u001b[0m \u001b[0;34m->\u001b[0m \u001b[0;32mNone\u001b[0m\u001b[0;34m:\u001b[0m\u001b[0;34m\u001b[0m\u001b[0;34m\u001b[0m\u001b[0m\n",
            "\u001b[0;32m/usr/local/lib/python3.11/dist-packages/pandas/io/parsers/readers.py\u001b[0m in \u001b[0;36m_make_engine\u001b[0;34m(self, f, engine)\u001b[0m\n\u001b[1;32m   1878\u001b[0m                 \u001b[0;32mif\u001b[0m \u001b[0;34m\"b\"\u001b[0m \u001b[0;32mnot\u001b[0m \u001b[0;32min\u001b[0m \u001b[0mmode\u001b[0m\u001b[0;34m:\u001b[0m\u001b[0;34m\u001b[0m\u001b[0;34m\u001b[0m\u001b[0m\n\u001b[1;32m   1879\u001b[0m                     \u001b[0mmode\u001b[0m \u001b[0;34m+=\u001b[0m \u001b[0;34m\"b\"\u001b[0m\u001b[0;34m\u001b[0m\u001b[0;34m\u001b[0m\u001b[0m\n\u001b[0;32m-> 1880\u001b[0;31m             self.handles = get_handle(\n\u001b[0m\u001b[1;32m   1881\u001b[0m                 \u001b[0mf\u001b[0m\u001b[0;34m,\u001b[0m\u001b[0;34m\u001b[0m\u001b[0;34m\u001b[0m\u001b[0m\n\u001b[1;32m   1882\u001b[0m                 \u001b[0mmode\u001b[0m\u001b[0;34m,\u001b[0m\u001b[0;34m\u001b[0m\u001b[0;34m\u001b[0m\u001b[0m\n",
            "\u001b[0;32m/usr/local/lib/python3.11/dist-packages/pandas/io/common.py\u001b[0m in \u001b[0;36mget_handle\u001b[0;34m(path_or_buf, mode, encoding, compression, memory_map, is_text, errors, storage_options)\u001b[0m\n\u001b[1;32m    871\u001b[0m         \u001b[0;32mif\u001b[0m \u001b[0mioargs\u001b[0m\u001b[0;34m.\u001b[0m\u001b[0mencoding\u001b[0m \u001b[0;32mand\u001b[0m \u001b[0;34m\"b\"\u001b[0m \u001b[0;32mnot\u001b[0m \u001b[0;32min\u001b[0m \u001b[0mioargs\u001b[0m\u001b[0;34m.\u001b[0m\u001b[0mmode\u001b[0m\u001b[0;34m:\u001b[0m\u001b[0;34m\u001b[0m\u001b[0;34m\u001b[0m\u001b[0m\n\u001b[1;32m    872\u001b[0m             \u001b[0;31m# Encoding\u001b[0m\u001b[0;34m\u001b[0m\u001b[0;34m\u001b[0m\u001b[0m\n\u001b[0;32m--> 873\u001b[0;31m             handle = open(\n\u001b[0m\u001b[1;32m    874\u001b[0m                 \u001b[0mhandle\u001b[0m\u001b[0;34m,\u001b[0m\u001b[0;34m\u001b[0m\u001b[0;34m\u001b[0m\u001b[0m\n\u001b[1;32m    875\u001b[0m                 \u001b[0mioargs\u001b[0m\u001b[0;34m.\u001b[0m\u001b[0mmode\u001b[0m\u001b[0;34m,\u001b[0m\u001b[0;34m\u001b[0m\u001b[0;34m\u001b[0m\u001b[0m\n",
            "\u001b[0;31mFileNotFoundError\u001b[0m: [Errno 2] No such file or directory: 'eeg_data.csv'"
          ]
        }
      ]
    },
    {
      "cell_type": "code",
      "source": [
        "\n",
        "import pandas as pd\n",
        "\n",
        "def analyze_product_inventory(data):\n",
        "    \"\"\"\n",
        "    Performs basic data analysis on product inventory data.\n",
        "\n",
        "    Args:\n",
        "        data (dict): A dictionary containing product information.\n",
        "\n",
        "    Returns:\n",
        "        pandas.DataFrame: A Pandas DataFrame with the analysis.\n",
        "    \"\"\"\n",
        "\n",
        "    # Create DataFrame\n",
        "    df = pd.DataFrame(data)\n",
        "\n",
        "    # Basic Operations\n",
        "    print(\"Original DataFrame:\")\n",
        "    print(df)\n",
        "\n",
        "    print(\"\\nDescriptive Statistics:\")\n",
        "    print(df.describe())  # Get statistics like mean, std, min, max\n",
        "\n",
        "    print(\"\\nTotal Inventory Value:\")\n",
        "    df['Total_Value'] = df['Price'] * df['Quantity']\n",
        "    total_inventory_value = df['Total_Value'].sum()\n",
        "    print(f\"Total Inventory Value: {total_inventory_value}\")\n",
        "\n",
        "    print(\"\\nProducts with Quantity > 20:\")\n",
        "    print(df[df['Quantity'] > 20])\n",
        "\n",
        "    print(\"\\nSorted by Price:\")\n",
        "    print(df.sort_values(by='Price', ascending=False))\n",
        "\n",
        "    return df\n",
        "\n",
        "# Example Usage:\n",
        "data = {'Product': ['Laptop', 'Smartphone', 'Tablet', 'Monitor', 'Keyboard'],\n",
        "        'Price': [1200, 800, 300, 150, 50],\n",
        "        'Quantity': [10, 20, 15, 25, 50]}\n",
        "inventory_df = analyze_product_inventory(data)\n",
        "\n",
        "#plot (Additional)\n",
        "import matplotlib.pyplot as plt\n",
        "inventory_df.plot(x='Product', y='Quantity', kind='bar')\n",
        "plt.title('Product Quantity')\n",
        "plt.show()"
      ],
      "metadata": {
        "colab": {
          "base_uri": "https://localhost:8080/",
          "height": 954
        },
        "id": "DFktpIhX8Jfg",
        "outputId": "b716732d-c062-4fcb-869e-1e0195f25460"
      },
      "execution_count": 8,
      "outputs": [
        {
          "output_type": "stream",
          "name": "stdout",
          "text": [
            "Original DataFrame:\n",
            "      Product  Price  Quantity\n",
            "0      Laptop   1200        10\n",
            "1  Smartphone    800        20\n",
            "2      Tablet    300        15\n",
            "3     Monitor    150        25\n",
            "4    Keyboard     50        50\n",
            "\n",
            "Descriptive Statistics:\n",
            "             Price   Quantity\n",
            "count     5.000000   5.000000\n",
            "mean    500.000000  24.000000\n",
            "std     486.055552  15.572412\n",
            "min      50.000000  10.000000\n",
            "25%     150.000000  15.000000\n",
            "50%     300.000000  20.000000\n",
            "75%     800.000000  25.000000\n",
            "max    1200.000000  50.000000\n",
            "\n",
            "Total Inventory Value:\n",
            "Total Inventory Value: 38750\n",
            "\n",
            "Products with Quantity > 20:\n",
            "    Product  Price  Quantity  Total_Value\n",
            "3   Monitor    150        25         3750\n",
            "4  Keyboard     50        50         2500\n",
            "\n",
            "Sorted by Price:\n",
            "      Product  Price  Quantity  Total_Value\n",
            "0      Laptop   1200        10        12000\n",
            "1  Smartphone    800        20        16000\n",
            "2      Tablet    300        15         4500\n",
            "3     Monitor    150        25         3750\n",
            "4    Keyboard     50        50         2500\n"
          ]
        },
        {
          "output_type": "display_data",
          "data": {
            "text/plain": [
              "<Figure size 640x480 with 1 Axes>"
            ],
            "image/png": "[encoded data removed]"
          },
          "metadata": {}
        }
      ]
    },
    {
      "cell_type": "code",
      "source": [
        "\n",
        "import pandas as pd\n",
        "import matplotlib.pyplot as plt\n",
        "\n",
        "def analyze_sales_data(csv_file):\n",
        "    \"\"\"\n",
        "    Performs sales data analysis using Pandas.\n",
        "\n",
        "    Args:\n",
        "        csv_file (str): The path to the CSV file containing sales data.\n",
        "    \"\"\"\n",
        "\n",
        "    # Read the CSV file\n",
        "    sales_data = pd.read_csv(csv_file)\n",
        "\n",
        "    # Display the first 5 rows\n",
        "    print(\"First 5 rows of the DataFrame:\")\n",
        "    print(sales_data.head())\n",
        "\n",
        "    # Check for missing values\n",
        "    print(\"\\nMissing Values:\")\n",
        "    print(sales_data.isnull().sum())\n",
        "\n",
        "    # Handle missing values (example: fill with 0)\n",
        "    sales_data.fillna(0, inplace=True)  # Or sales_data.dropna(inplace=True) to drop rows\n",
        "\n",
        "    # Visualize monthly sales trend (assuming there's a 'Date' and 'Sales' column)\n",
        "    # Convert 'Date' to datetime if it's not already\n",
        "    if 'Date' in sales_data.columns:\n",
        "      sales_data['Date'] = pd.to_datetime(sales_data['Date'])\n",
        "      sales_data.set_index('Date', inplace=True)\n",
        "      monthly_sales = sales_data.resample('M')['Sales'].sum()  # Sum sales by month\n",
        "\n",
        "      plt.figure(figsize=(10, 6))\n",
        "      plt.plot(monthly_sales)\n",
        "      plt.title('Monthly Sales Trend')\n",
        "      plt.xlabel('Month')\n",
        "      plt.ylabel('Total Sales')\n",
        "      plt.grid(True)\n",
        "      plt.show()\n",
        "\n",
        "# Example Usage:\n",
        "# Assuming 'sales_data.csv' exists with columns like 'Date' (in a recognizable format) and 'Sales'\n",
        "csv_file = \"sales_data."
      ],
      "metadata": {
        "colab": {
          "base_uri": "https://localhost:8080/",
          "height": 141
        },
        "id": "6IMVu6na8JiA",
        "outputId": "41bc7c1c-cb15-404a-b839-412206445e6f"
      },
      "execution_count": 9,
      "outputs": [
        {
          "output_type": "error",
          "ename": "SyntaxError",
          "evalue": "unterminated string literal (detected at line 43) (<ipython-input-9-e2d1a26f5e9a>, line 43)",
          "traceback": [
            "\u001b[0;36m  File \u001b[0;32m\"<ipython-input-9-e2d1a26f5e9a>\"\u001b[0;36m, line \u001b[0;32m43\u001b[0m\n\u001b[0;31m    csv_file = \"sales_data.\u001b[0m\n\u001b[0m               ^\u001b[0m\n\u001b[0;31mSyntaxError\u001b[0m\u001b[0;31m:\u001b[0m unterminated string literal (detected at line 43)\n"
          ]
        }
      ]
    },
    {
      "cell_type": "code",
      "source": [],
      "metadata": {
        "id": "NXjTsfDC8Jkv"
      },
      "execution_count": null,
      "outputs": []
    },
    {
      "cell_type": "code",
      "source": [],
      "metadata": {
        "id": "cd8ojPkU8Jm8"
      },
      "execution_count": null,
      "outputs": []
    }
  ]
}